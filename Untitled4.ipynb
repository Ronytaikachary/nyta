{
  "nbformat": 4,
  "nbformat_minor": 0,
  "metadata": {
    "colab": {
      "provenance": []
    },
    "kernelspec": {
      "name": "python3",
      "display_name": "Python 3"
    },
    "language_info": {
      "name": "python"
    }
  },
  "cells": [
    {
      "cell_type": "code",
      "execution_count": 2,
      "metadata": {
        "colab": {
          "base_uri": "https://localhost:8080/"
        },
        "id": "euwBMHr-NY8w",
        "outputId": "6a65b32d-4011-4309-bded-076cb8897e4c"
      },
      "outputs": [
        {
          "output_type": "stream",
          "name": "stdout",
          "text": [
            "Naive Bayes Accuracy: 1.0\n",
            "\n",
            "Naive Bayes Classification Report:\n",
            "              precision    recall  f1-score   support\n",
            "\n",
            "           0       1.00      1.00      1.00        10\n",
            "           1       1.00      1.00      1.00         9\n",
            "           2       1.00      1.00      1.00        11\n",
            "\n",
            "    accuracy                           1.00        30\n",
            "   macro avg       1.00      1.00      1.00        30\n",
            "weighted avg       1.00      1.00      1.00        30\n",
            "\n",
            "Logistic Regression Accuracy: 1.0\n",
            "\n",
            "Logistic Regression Classification Report:\n",
            "              precision    recall  f1-score   support\n",
            "\n",
            "           0       1.00      1.00      1.00        10\n",
            "           1       1.00      1.00      1.00         9\n",
            "           2       1.00      1.00      1.00        11\n",
            "\n",
            "    accuracy                           1.00        30\n",
            "   macro avg       1.00      1.00      1.00        30\n",
            "weighted avg       1.00      1.00      1.00        30\n",
            "\n"
          ]
        },
        {
          "output_type": "stream",
          "name": "stderr",
          "text": [
            "/usr/local/lib/python3.10/dist-packages/sklearn/linear_model/_logistic.py:458: ConvergenceWarning: lbfgs failed to converge (status=1):\n",
            "STOP: TOTAL NO. of ITERATIONS REACHED LIMIT.\n",
            "\n",
            "Increase the number of iterations (max_iter) or scale the data as shown in:\n",
            "    https://scikit-learn.org/stable/modules/preprocessing.html\n",
            "Please also refer to the documentation for alternative solver options:\n",
            "    https://scikit-learn.org/stable/modules/linear_model.html#logistic-regression\n",
            "  n_iter_i = _check_optimize_result(\n"
          ]
        }
      ],
      "source": [
        "# Impor library yang diperlukan\n",
        "from sklearn.datasets import load_iris\n",
        "from sklearn.model_selection import train_test_split\n",
        "from sklearn.naive_bayes import GaussianNB\n",
        "from sklearn.linear_model import LogisticRegression\n",
        "from sklearn.metrics import accuracy_score, classification_report\n",
        "\n",
        "# Load dataset iris sebagai contoh\n",
        "iris = load_iris()\n",
        "X = iris.data\n",
        "y = iris.target\n",
        "\n",
        "# Bagi dataset menjadi data latih dan data uji\n",
        "X_train, X_test, y_train, y_test = train_test_split(X, y, test_size=0.2, random_state=42)\n",
        "\n",
        "# Ganti algoritma Logistic Regression dengan Naive Bayes (Gaussian Naive Bayes)\n",
        "# Gunakan model Naive Bayes\n",
        "naive_bayes_model = GaussianNB()\n",
        "naive_bayes_model.fit(X_train, y_train)\n",
        "\n",
        "# Lakukan prediksi dengan model Naive Bayes\n",
        "naive_bayes_predictions = naive_bayes_model.predict(X_test)\n",
        "\n",
        "# Evaluasi model Naive Bayes\n",
        "accuracy_naive_bayes = accuracy_score(y_test, naive_bayes_predictions)\n",
        "print(f'Naive Bayes Accuracy: {accuracy_naive_bayes}')\n",
        "\n",
        "print('\\nNaive Bayes Classification Report:')\n",
        "print(classification_report(y_test, naive_bayes_predictions))\n",
        "\n",
        "# Ganti algoritma Logistic Regression dengan Logistic Regression (Opsional)\n",
        "logistic_regression_model = LogisticRegression()\n",
        "logistic_regression_model.fit(X_train, y_train)\n",
        "\n",
        "# Lakukan prediksi dengan model Logistic Regression (Opsional)\n",
        "logistic_regression_predictions = logistic_regression_model.predict(X_test)\n",
        "\n",
        "# Evaluasi model Logistic Regression (Opsional)\n",
        "accuracy_logistic_regression = accuracy_score(y_test, logistic_regression_predictions)\n",
        "print(f'Logistic Regression Accuracy: {accuracy_logistic_regression}')\n",
        "\n",
        "print('\\nLogistic Regression Classification Report:')\n",
        "print(classification_report(y_test, logistic_regression_predictions))\n"
      ]
    }
  ]
}